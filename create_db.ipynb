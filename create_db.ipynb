{
 "cells": [
  {
   "cell_type": "code",
   "execution_count": 3,
   "id": "f31ccee8",
   "metadata": {},
   "outputs": [],
   "source": [
    "import pandas as pd\n",
    "from film_builder import create_film_table\n",
    "from user_builder import create_user_table, create_user_reviews_table\n",
    "from boxoffice_builder import create_box_office_performance_table"
   ]
  },
  {
   "cell_type": "code",
   "execution_count": 4,
   "id": "4f11b88e",
   "metadata": {},
   "outputs": [],
   "source": [
    "# Load data\n",
    "sales_df = pd.read_csv('cleanedData/sales_cleaned.csv')\n",
    "meta_df = pd.read_csv('cleanedData/metadata_cleaned.csv')\n",
    "user_reviews_df = pd.read_csv('cleanedData/user_reviews_cleaned.csv', low_memory=False)"
   ]
  },
  {
   "cell_type": "code",
   "execution_count": 5,
   "id": "2460ddd7",
   "metadata": {},
   "outputs": [],
   "source": [
    "# Create film table\n",
    "connection_string = 'postgresql://admin@localhost:5432/moviedb'\n",
    "films_df = create_film_table(sales_df, meta_df, connection_string)\n"
   ]
  },
  {
   "cell_type": "code",
   "execution_count": 6,
   "id": "5f45ebf7",
   "metadata": {},
   "outputs": [
    {
     "name": "stdout",
     "output_type": "stream",
     "text": [
      "Created users table with 106788 users\n",
      "Created user_reviews table with 319662 reviews\n"
     ]
    }
   ],
   "source": [
    "# Create user tables\n",
    "users_df = create_user_table(user_reviews_df, connection_string)\n",
    "user_reviews_clean = create_user_reviews_table(user_reviews_df, connection_string)"
   ]
  },
  {
   "cell_type": "code",
   "execution_count": null,
   "id": "27977b63",
   "metadata": {},
   "outputs": [
    {
     "name": "stdout",
     "output_type": "stream",
     "text": [
      "Created box_office_performance table with 30612 records\n"
     ]
    }
   ],
   "source": [
    "# Create box office performance table\n",
    "box_office_performance = create_box_office_performance_table(sales_df, connection_string)"
   ]
  }
 ],
 "metadata": {
  "kernelspec": {
   "display_name": "venv (3.11.13)",
   "language": "python",
   "name": "python3"
  },
  "language_info": {
   "codemirror_mode": {
    "name": "ipython",
    "version": 3
   },
   "file_extension": ".py",
   "mimetype": "text/x-python",
   "name": "python",
   "nbconvert_exporter": "python",
   "pygments_lexer": "ipython3",
   "version": "3.11.13"
  }
 },
 "nbformat": 4,
 "nbformat_minor": 5
}
