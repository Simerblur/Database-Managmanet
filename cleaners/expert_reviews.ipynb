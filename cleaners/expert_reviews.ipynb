{
 "cells": [
  {
   "cell_type": "code",
   "execution_count": 1,
   "id": "e8b827f3",
   "metadata": {},
   "outputs": [
    {
     "name": "stderr",
     "output_type": "stream",
     "text": [
      "/var/folders/7h/003pn2vs5_x723vmnbb7vp8c0000gn/T/ipykernel_32022/4292149038.py:22: UserWarning: Could not infer format, so each element will be parsed individually, falling back to `dateutil`. To ensure parsing is consistent and as-expected, please specify a format.\n",
      "  df_clean['dateP'] = pd.to_datetime(df_clean['dateP'], errors='coerce')\n"
     ]
    }
   ],
   "source": [
    "import pandas as pd\n",
    "import numpy as np\n",
    "\n",
    "def clean_review_data(input_file, output_file):\n",
    "    df = pd.read_excel(input_file)\n",
    "    df_clean = df.copy()\n",
    "    \n",
    "    # Clean text columns\n",
    "    for col in ['reviewer', 'Rev', 'dateP']:\n",
    "        if col in df_clean.columns:\n",
    "            df_clean[col] = (df_clean[col].astype(str)\n",
    "                           .str.replace(\" '\", \"\").str.replace(\"'\", \"\")\n",
    "                           .str.replace('\"', '').str.strip()\n",
    "                           .replace('nan', np.nan))\n",
    "    \n",
    "    # Extract movie title from URL\n",
    "    if 'url' in df_clean.columns:\n",
    "        df_clean['url'] = df_clean['url'].str.split('/').str[-1]\n",
    "    \n",
    "    # Convert date\n",
    "    if 'dateP' in df_clean.columns:\n",
    "        df_clean['dateP'] = pd.to_datetime(df_clean['dateP'], errors='coerce')\n",
    "    \n",
    "    df_clean.to_csv(output_file, index=False)\n",
    "    df_clean.head(50).to_csv(output_file.replace('.csv', '_sample_50.csv'), index=False)\n",
    "\n",
    "    return df_clean\n",
    "\n",
    "# Usage\n",
    "if __name__ == \"__main__\":\n",
    "    clean_review_data('data/UserReviewsClean43LIWC.xlsx', 'cleanedData/user_reviews_cleaned.csv')\n",
    "    clean_review_data('data/ExpertReviewsClean43LIWC.xlsx', 'cleanedData/expert_reviews_cleaned.csv')"
   ]
  }
 ],
 "metadata": {
  "kernelspec": {
   "display_name": "venv (3.11.13)",
   "language": "python",
   "name": "python3"
  },
  "language_info": {
   "codemirror_mode": {
    "name": "ipython",
    "version": 3
   },
   "file_extension": ".py",
   "mimetype": "text/x-python",
   "name": "python",
   "nbconvert_exporter": "python",
   "pygments_lexer": "ipython3",
   "version": "3.11.13"
  }
 },
 "nbformat": 4,
 "nbformat_minor": 5
}
