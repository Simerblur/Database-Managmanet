{
 "cells": [
  {
   "cell_type": "code",
   "execution_count": null,
   "id": "f8079a24",
   "metadata": {},
   "outputs": [
    {
     "name": "stdout",
     "output_type": "stream",
     "text": [
      "Original shape: (319662, 100)\n",
      "Data cleaning complete.\n",
      "Final shape: (319662, 100)\n"
     ]
    }
   ],
   "source": [
    "import pandas as pd\n",
    "import numpy as np\n",
    "\n",
    "# Read your Excel file\n",
    "df = pd.read_excel('data/UserReviewsClean43LIWC.xlsx')\n",
    "\n",
    "# Create a copy\n",
    "df_clean = df.copy()\n",
    "\n",
    "\n",
    "# Clean reviewer column - remove quotes and whitespace\n",
    "df_clean['reviewer'] = df_clean['reviewer'].astype(str).str.replace(\" '\", \"\").str.replace(\"'\", \"\").str.strip().replace('nan', np.nan)\n",
    "\n",
    "# Clean dateP column - remove quotes and whitespace  \n",
    "df_clean['dateP'] = df_clean['dateP'].astype(str).str.replace(\" '\", \"\").str.replace(\"'\", \"\").str.strip().replace('nan', np.nan)\n",
    "\n",
    "# Clean Rev column - remove quotes and whitespace\n",
    "df_clean['Rev'] = df_clean['Rev'].astype(str).str.replace(\" '\", \"\").str.replace(\"'\", \"\").str.strip().replace('nan', np.nan)\n",
    "\n",
    "# Extract movie title from URL into new column (keep original URL intact)\n",
    "df_clean['movie_title'] = df_clean['url'].str.split('/').str[-1]\n",
    "\n",
    "# Convert dates to datetime format\n",
    "df_clean['dateP'] = pd.to_datetime(df_clean['dateP'], errors='coerce')\n",
    "\n",
    "# Save cleaned data to CSV\n",
    "df_clean.to_csv(\"cleanedData/reviews_data_cleaned.csv\", index=False)\n",
    "\n",
    "# Save first 50 rows as sample\n",
    "df_clean.head(50).to_csv(\"cleanedData/reviews_data_sample_50.csv\", index=False)\n",
    "\n",
    "print(\"Data cleaning complete.\")"
   ]
  },
  {
   "cell_type": "code",
   "execution_count": null,
   "id": "fb6ec672",
   "metadata": {},
   "outputs": [],
   "source": []
  },
  {
   "cell_type": "code",
   "execution_count": null,
   "id": "ec8a606e",
   "metadata": {},
   "outputs": [],
   "source": []
  }
 ],
 "metadata": {
  "kernelspec": {
   "display_name": "venv (3.11.13)",
   "language": "python",
   "name": "python3"
  },
  "language_info": {
   "codemirror_mode": {
    "name": "ipython",
    "version": 3
   },
   "file_extension": ".py",
   "mimetype": "text/x-python",
   "name": "python",
   "nbconvert_exporter": "python",
   "pygments_lexer": "ipython3",
   "version": "3.11.13"
  }
 },
 "nbformat": 4,
 "nbformat_minor": 5
}
