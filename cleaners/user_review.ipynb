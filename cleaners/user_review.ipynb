{
 "cells": [
  {
   "cell_type": "code",
   "execution_count": null,
   "id": "f8079a24",
   "metadata": {},
   "outputs": [
    {
     "name": "stdout",
     "output_type": "stream",
     "text": [
      "Data cleaning complete.\n"
     ]
    }
   ],
   "source": [
    "import pandas as pd\n",
    "import numpy as np\n",
    "\n",
    "# =============================================================================\n",
    "# STEP 1: INITIAL DATA LOADING\n",
    "# =============================================================================\n",
    "# --- TASK: Load the raw user review data ---\n",
    "# Reads the Excel file containing the raw user reviews and LIWC analysis into a Pandas DataFrame.\n",
    "df = pd.read_excel('../data/UserReviewsClean43LIWC.xlsx')\n",
    "\n",
    "# Creates a copy of the original DataFrame to ensure we work on a clean, modifiable version of the data.\n",
    "df_clean = df.copy()\n",
    "\n",
    "\n",
    "# =============================================================================\n",
    "# STEP 2: CLEANING TEXT COLUMNS\n",
    "# =============================================================================\n",
    "# --- OPERATION: Clean the 'reviewer' column ---\n",
    "# Converts the column to text, removes unnecessary quote marks and leading/trailing whitespace, and finally replaces the text string 'nan' with the standard numerical missing value (NaN).\n",
    "df_clean['reviewer'] = df_clean['reviewer'].astype(str).str.replace(\" '\", \"\").str.replace(\"'\", \"\").str.strip().replace('nan', np.nan)\n",
    "\n",
    "# --- OPERATION: Clean the 'dateP' column ---\n",
    "# Applies the same cleaning steps (remove quotes and strip whitespace) to the date text column.\n",
    "df_clean['dateP'] = df_clean['dateP'].astype(str).str.replace(\" '\", \"\").str.replace(\"'\", \"\").str.strip().replace('nan', np.nan)\n",
    "\n",
    "# --- OPERATION: Clean the 'Rev' (Review Text) column ---\n",
    "# Applies the same cleaning steps to the main review body text.\n",
    "df_clean['Rev'] = df_clean['Rev'].astype(str).str.replace(\" '\", \"\").str.replace(\"'\", \"\").str.strip().replace('nan', np.nan)\n",
    "\n",
    "\n",
    "# =============================================================================\n",
    "# STEP 3: FEATURE EXTRACTION AND TYPE CONVERSION\n",
    "# =============================================================================\n",
    "# --- OPERATION: Extract movie title from URL ---\n",
    "# The URL column often contains the movie title at the very end (after the last slash). \n",
    "# We split the URL string by the slash ('/') character and take the last element to create a new **'movie_title'** column.\n",
    "df_clean['movie_title'] = df_clean['url'].str.split('/').str[-1]\n",
    "\n",
    "# --- OPERATION: Convert date to datetime format ---\n",
    "# Converts the cleaned date text column into the proper Pandas **datetime** format. \n",
    "# The 'errors='coerce'' parameter ensures any dates that couldn't be parsed are converted to a missing value (NaT - Not a Time).\n",
    "df_clean['dateP'] = pd.to_datetime(df_clean['dateP'], errors='coerce')\n",
    "\n",
    "\n",
    "# =============================================================================\n",
    "# STEP 4: SAVE CLEANED DATA\n",
    "# =============================================================================\n",
    "# --- OPERATION: Save the full cleaned dataset ---\n",
    "# The final, clean DataFrame is saved to the specified output file location in **CSV** format.\n",
    "df_clean.to_csv(\"../cleanedData/reviews_data_cleaned.csv\", index=False)\n",
    "\n",
    "# --- OPERATION: Save a small sample of the data ---\n",
    "# Saves the first 50 rows of the cleaned data as a separate sample file, which is useful for quick testing and verification.\n",
    "df_clean.head(50).to_csv(\"../cleanedData/reviews_data_sample_50.csv\", index=False)\n",
    "\n",
    "print(\"Data cleaning complete.\")"
   ]
  },
  {
   "cell_type": "code",
   "execution_count": null,
   "id": "fb6ec672",
   "metadata": {},
   "outputs": [],
   "source": []
  },
  {
   "cell_type": "code",
   "execution_count": null,
   "id": "ec8a606e",
   "metadata": {},
   "outputs": [],
   "source": []
  }
 ],
 "metadata": {
  "kernelspec": {
   "display_name": "venv (3.11.13)",
   "language": "python",
   "name": "python3"
  },
  "language_info": {
   "codemirror_mode": {
    "name": "ipython",
    "version": 3
   },
   "file_extension": ".py",
   "mimetype": "text/x-python",
   "name": "python",
   "nbconvert_exporter": "python",
   "pygments_lexer": "ipython3",
   "version": "3.11.13"
  }
 },
 "nbformat": 4,
 "nbformat_minor": 5
}
